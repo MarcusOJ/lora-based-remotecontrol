{
 "cells": [
  {
   "cell_type": "markdown",
   "metadata": {},
   "source": [
    "## Kirjeldus\n",
    "\n",
    "## Transiiver võimsus (P)\n",
    "\n",
    "Konfiguratsioon  \n",
    "868MHz @+22dBm = 118mA\n",
    "\n",
    "**Detsibell (dB)**  \n",
    "$L_{P} = 10* log_{10}(\\frac{P}{P_{0}})$\n",
    "\n",
    "**Detsibell millivatti kohta (dBm)**  \n",
    "$L_{P} = 10* log_{10}(\\frac{P}{1mW})$\n",
    "\n",
    "**Võimsus (W)**  \n",
    "$P = 10^\\frac{L_{P}}{10dB}* P_{0}$\n",
    "\n",
    "## Link Budget\n",
    "$F = 868 MHz, d = 1(km)$\n",
    "\n",
    "A link budget equation including all these effects, expressed logarithmically, might look like this:\n",
    "\n",
    "$P_\\text{RX} = P_\\text{TX} + G_\\text{TX} - L_\\text{TX} - L_\\text{FS} - L_M + G_\\text{RX} - L_\\text{RX}$\n",
    " \n",
    "where:\n",
    "- $P_\\text{RX}$, received power (dBm)\n",
    "- $P_\\text{TX}$, transmitter output power (dBm) \n",
    "- $G_\\text{TX}$, transmitter [antenna gain] (dBi)\n",
    "- $L_\\text{TX}$, transmitter losses (coax, connectors...) (dB) \n",
    "- $L_\\text{FS}$, [path loss], usually [free space loss] (dB)\n",
    "- $L_\\text{M}$, miscellaneous losses (margin, body loss, polarization mismatch, other losses, ...) (dB)\n",
    "- $G_\\text{RX}$, receiver [antenna gain] (dBi)\n",
    "- $L_\\text{RX}$, receiver losses (coax, connectors, ...)  (dB)\n",
    "\n",
    "\n",
    "${\\displaystyle L_{\\text{FS}}} (dB) ≈ −27.55 dB + 20 log10[frequency (MHz)] + 20 log10[distance (m)]$\\\n",
    "${\\displaystyle L_{\\text{FS}}} (dB) ≈ 32.45 dB + 20 log10[frequency (MHz)] + 20 log10[distance (km)]$\n",
    "\n",
    "## Küsimused\n",
    "- Kust leida eesti keelseid termineid?"
   ]
  },
  {
   "cell_type": "code",
   "execution_count": 6,
   "metadata": {},
   "outputs": [
    {
     "name": "stdout",
     "output_type": "stream",
     "text": [
      "-69.22039450352985\n"
     ]
    }
   ],
   "source": [
    "from math import log10\n",
    "\n",
    "distants_m = 1 # km\n",
    "sagedus = 868\n",
    "\n",
    "p_tx = 22   #dBm\n",
    "g_tx = 0    #dBi\n",
    "l_tx = 0    #dB\n",
    "l_fs = 32.45 + 20 * log10(sagedus) + 20 * log10(distants_m)\n",
    "l_m = 0     #dB\n",
    "g_rx = 0    #dB\n",
    "l_rx = 0    #dB\n",
    "p_rx = p_tx + g_tx - l_tx - l_fs - l_m + g_rx - l_rx\n",
    "\n",
    "print(p_rx)"
   ]
  }
 ],
 "metadata": {
  "kernelspec": {
   "display_name": "Python 3",
   "language": "python",
   "name": "python3"
  },
  "language_info": {
   "codemirror_mode": {
    "name": "ipython",
    "version": 3
   },
   "file_extension": ".py",
   "mimetype": "text/x-python",
   "name": "python",
   "nbconvert_exporter": "python",
   "pygments_lexer": "ipython3",
   "version": "3.11.9"
  }
 },
 "nbformat": 4,
 "nbformat_minor": 2
}
